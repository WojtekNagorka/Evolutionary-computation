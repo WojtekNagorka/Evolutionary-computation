{
 "cells": [
  {
   "cell_type": "code",
   "execution_count": 15,
   "id": "c882fa23",
   "metadata": {},
   "outputs": [],
   "source": [
    "import numpy as np\n",
    "import pandas as pd"
   ]
  },
  {
   "cell_type": "markdown",
   "id": "544ee226",
   "metadata": {},
   "source": [
    "## **1. Description of the problem** ##"
   ]
  },
  {
   "cell_type": "markdown",
   "id": "ab3305ef",
   "metadata": {},
   "source": []
  },
  {
   "cell_type": "markdown",
   "id": "e1fc4405",
   "metadata": {},
   "source": [
    "## **2. Pseudocode of implemented algorithms** ##"
   ]
  },
  {
   "cell_type": "markdown",
   "id": "6a7d647a",
   "metadata": {},
   "source": []
  },
  {
   "cell_type": "markdown",
   "id": "8a774526",
   "metadata": {},
   "source": []
  },
  {
   "cell_type": "markdown",
   "id": "16f25bc6",
   "metadata": {},
   "source": []
  },
  {
   "cell_type": "markdown",
   "id": "e498fb51",
   "metadata": {},
   "source": []
  },
  {
   "cell_type": "markdown",
   "id": "f1594be5",
   "metadata": {},
   "source": [
    "## **3. Results of computational experiments** ##"
   ]
  },
  {
   "cell_type": "code",
   "execution_count": null,
   "id": "4912d5a9",
   "metadata": {},
   "outputs": [],
   "source": []
  },
  {
   "cell_type": "markdown",
   "id": "78579f71",
   "metadata": {},
   "source": [
    "## **4. 2D Visualization** ##"
   ]
  },
  {
   "cell_type": "markdown",
   "id": "60ef255c",
   "metadata": {},
   "source": [
    "### **Reading TSP A and TSP B instances** ##"
   ]
  },
  {
   "cell_type": "code",
   "execution_count": 8,
   "id": "b0a9fedb",
   "metadata": {},
   "outputs": [],
   "source": [
    "tsp_a = pd.read_csv('../data/TSPA.csv', sep=';', header=None)\n",
    "tsp_a.columns = ['x', 'y', 'cost']\n",
    "\n",
    "tsp_b = pd.read_csv('../data/TSPB.csv', sep=';', header=None)\n",
    "tsp_b.columns = ['x', 'y', 'cost']"
   ]
  },
  {
   "cell_type": "markdown",
   "id": "8b70b69a",
   "metadata": {},
   "source": [
    "### **Reading files with best solutions** ##"
   ]
  },
  {
   "cell_type": "code",
   "execution_count": 21,
   "id": "df30087f",
   "metadata": {},
   "outputs": [],
   "source": [
    "tsp_a_random = np.array(pd.read_csv('results/TSPA_random.csv', sep=';', header=None).values).flatten()\n",
    "tsp_a_nn_end = np.array(pd.read_csv('results/TSPA_nn_end.csv', sep=';', header=None).values).flatten()\n",
    "tsp_a_flexible = np.array(pd.read_csv('results/TSPA_nn_flexible.csv', sep=';', header=None).values).flatten()"
   ]
  },
  {
   "cell_type": "code",
   "execution_count": null,
   "id": "d6c6bf1f",
   "metadata": {},
   "outputs": [],
   "source": [
    "tsp_b_random = pd.read_csv('results/TSPB_random.csv', sep=';', header=None)\n",
    "tsp_b_nn_end = pd.read_csv('results/TSPB_nn_end.csv', sep    =';', header=None)\n",
    "tsp_b_flexible = pd.read_csv('results/TSPB_nn_flexible.csv', sep=';', header=None)"
   ]
  },
  {
   "cell_type": "code",
   "execution_count": null,
   "id": "62f2dad4",
   "metadata": {},
   "outputs": [],
   "source": []
  },
  {
   "cell_type": "markdown",
   "id": "162839b3",
   "metadata": {},
   "source": [
    "## **5. Display of the results** ##"
   ]
  },
  {
   "cell_type": "markdown",
   "id": "46aac89b",
   "metadata": {},
   "source": [
    "### **5.1. TSP A instance** ###\n",
    "\n",
    "#### **5.1.1. Random solution** ####"
   ]
  },
  {
   "cell_type": "code",
   "execution_count": 19,
   "id": "e204145a",
   "metadata": {},
   "outputs": [
    {
     "data": {
      "text/plain": [
       "array([ 64,  61, 118,  84, 127,  53,   8, 112,  62, 151,  20, 117, 183,\n",
       "       105, 128, 178,  55, 100, 109,  19,  47, 120,  50,   0, 140, 198,\n",
       "        96, 103, 133, 148,  27, 165,  68, 199,  74, 162, 123, 175, 135,\n",
       "       132, 185,  91, 143, 176,  65, 186,  72, 164, 156,  15,  77,  59,\n",
       "       102,  99, 116,  11, 159,  46, 124,  97,   9, 110, 126,  63,  48,\n",
       "       149, 160,   3, 144,  40, 182, 114, 137, 155,  70, 158, 189,  42,\n",
       "        14,  34,  37, 167,  12,  78,  66, 170,  13, 187, 179,  89,  10,\n",
       "       121,  41,  25, 191,   1,  26, 190,  87, 106,  64])"
      ]
     },
     "execution_count": 19,
     "metadata": {},
     "output_type": "execute_result"
    }
   ],
   "source": [
    "tsp_a_random"
   ]
  },
  {
   "cell_type": "markdown",
   "id": "d7af7666",
   "metadata": {},
   "source": [
    "#### **5.1.2. Nearest neighbour adding new node at the end** ####"
   ]
  },
  {
   "cell_type": "code",
   "execution_count": 22,
   "id": "27688073",
   "metadata": {},
   "outputs": [
    {
     "data": {
      "text/plain": [
       "array([124,  94,  63,  53, 180, 154, 135, 123,  65, 116,  59, 115, 139,\n",
       "       193,  41,  42, 160,  34,  22,  18, 108,  69, 159, 181, 184, 177,\n",
       "        54,  30,  48,  43, 151, 176,  80,  79, 133, 162,  51, 137, 183,\n",
       "       143,   0, 117,  46,  68,  93, 140,  36, 163, 199, 146, 195, 103,\n",
       "         5,  96, 118, 149, 131, 112,   4,  84,  35,  10, 190, 127,  70,\n",
       "       101,  97,   1, 152, 120,  78, 145, 185,  40, 165,  90,  81, 113,\n",
       "       175, 171,  16,  31,  44,  92,  57, 106,  49, 144,  62,  14, 178,\n",
       "        52,  55, 129,   2,  75,  86,  26, 100, 121, 124])"
      ]
     },
     "execution_count": 22,
     "metadata": {},
     "output_type": "execute_result"
    }
   ],
   "source": [
    "tsp_a_nn_end"
   ]
  },
  {
   "cell_type": "markdown",
   "id": "c941a227",
   "metadata": {},
   "source": [
    "#### **5.1.3. Nearest neighbour adding new node anywhere** ####"
   ]
  },
  {
   "cell_type": "code",
   "execution_count": 23,
   "id": "e7321d3f",
   "metadata": {},
   "outputs": [
    {
     "data": {
      "text/plain": [
       "array([143, 183,  89, 186,  23, 137, 176,  80,  79,  63,  94, 124, 152,\n",
       "        97,   1, 101,   2, 120, 129,  55,  49, 102, 148,   9,  62, 144,\n",
       "        14, 178, 106, 165,  90,  81, 196,  40, 119, 185,  52,  57,  92,\n",
       "       179, 145,  78,  31,  56, 113, 175, 171,  16,  25,  44,  75,  86,\n",
       "        26, 100,  53, 154, 180, 135,  70, 127, 123, 162, 133, 151,  51,\n",
       "       118,  59,  65, 116,  43, 184,  35,  84, 112,   4, 190,  10, 177,\n",
       "        30,  54,  48, 160,  34, 146,  22,  18, 108,  69, 159, 181,  42,\n",
       "         5, 115,  41, 193, 139,  68,  46,   0, 117, 143])"
      ]
     },
     "execution_count": 23,
     "metadata": {},
     "output_type": "execute_result"
    }
   ],
   "source": [
    "tsp_a_flexible"
   ]
  },
  {
   "cell_type": "markdown",
   "id": "f5029983",
   "metadata": {},
   "source": [
    "### **5.2. TSP B instance** ###"
   ]
  },
  {
   "cell_type": "markdown",
   "id": "d940236b",
   "metadata": {},
   "source": [
    "#### **5.2.1. Random solution** ####"
   ]
  },
  {
   "cell_type": "code",
   "execution_count": null,
   "id": "4ce0ddae",
   "metadata": {},
   "outputs": [],
   "source": [
    "tsp_b_random"
   ]
  },
  {
   "cell_type": "markdown",
   "id": "3d9e7c86",
   "metadata": {},
   "source": [
    "#### **5.2.2. Nearest neighbour adding new node at the end** ####"
   ]
  },
  {
   "cell_type": "code",
   "execution_count": null,
   "id": "4cea8d8d",
   "metadata": {},
   "outputs": [],
   "source": [
    "tsp_b_nn_end"
   ]
  },
  {
   "cell_type": "markdown",
   "id": "d2d49020",
   "metadata": {},
   "source": [
    "#### **5.2.3. Nearest neighbour adding new node anywhere** ####"
   ]
  },
  {
   "cell_type": "code",
   "execution_count": null,
   "id": "f1f3789d",
   "metadata": {},
   "outputs": [],
   "source": [
    "tsp_b_flexible"
   ]
  },
  {
   "cell_type": "markdown",
   "id": "3ac2f15a",
   "metadata": {},
   "source": [
    "## **6. Usage of solution checker**"
   ]
  },
  {
   "cell_type": "markdown",
   "id": "e4729846",
   "metadata": {},
   "source": []
  },
  {
   "cell_type": "markdown",
   "id": "fdbe1063",
   "metadata": {},
   "source": [
    "## **7. Conclusions**"
   ]
  },
  {
   "cell_type": "markdown",
   "id": "0e06a3b9",
   "metadata": {},
   "source": []
  }
 ],
 "metadata": {
  "kernelspec": {
   "display_name": "Python 3",
   "language": "python",
   "name": "python3"
  },
  "language_info": {
   "codemirror_mode": {
    "name": "ipython",
    "version": 3
   },
   "file_extension": ".py",
   "mimetype": "text/x-python",
   "name": "python",
   "nbconvert_exporter": "python",
   "pygments_lexer": "ipython3",
   "version": "3.9.6"
  }
 },
 "nbformat": 4,
 "nbformat_minor": 5
}
